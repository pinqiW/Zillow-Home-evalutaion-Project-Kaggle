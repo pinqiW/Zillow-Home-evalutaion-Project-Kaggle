{
 "cells": [
  {
   "cell_type": "code",
   "execution_count": 6,
   "metadata": {},
   "outputs": [
    {
     "name": "stdout",
     "output_type": "stream",
     "text": [
      "Collecting xgboost\n",
      "  Downloading https://files.pythonhosted.org/packages/51/c1/198915b13e98b62a98f48309c41012638464651da755d941f4abe384c012/xgboost-0.82-py2.py3-none-win_amd64.whl (7.7MB)\n",
      "Requirement already satisfied: numpy in c:\\users\\jiamin_xiao\\anaconda3_new\\lib\\site-packages (from xgboost) (1.15.4)\n",
      "Requirement already satisfied: scipy in c:\\users\\jiamin_xiao\\anaconda3_new\\lib\\site-packages (from xgboost) (1.1.0)\n",
      "Installing collected packages: xgboost\n",
      "Successfully installed xgboost-0.82\n"
     ]
    }
   ],
   "source": [
    "!pip install xgboost"
   ]
  },
  {
   "cell_type": "code",
   "execution_count": 1,
   "metadata": {},
   "outputs": [],
   "source": [
    "#Import Required Libraries\n",
    "import numpy as np # for efficient numerical computations\n",
    "import pandas as pd # for data management\n",
    "import matplotlib.pyplot as plt #to customize visualizations\n",
    "import seaborn as sns #for easy/common visualizations\n",
    "\n",
    "#Importing sklearn libraries\n",
    "from sklearn.model_selection import cross_val_score\n",
    "from sklearn.model_selection import StratifiedKFold\n",
    "from sklearn import model_selection\n",
    "from sklearn.ensemble import RandomForestRegressor\n",
    "from sklearn.model_selection import GridSearchCV\n",
    "from sklearn.preprocessing import LabelEncoder\n",
    "from sklearn.model_selection import cross_val_score\n",
    "from sklearn import linear_model\n",
    "from sklearn import tree\n",
    "from sklearn import svm\n",
    "from sklearn.svm import SVC\n",
    "from sklearn.neighbors import KNeighborsRegressor\n",
    "from sklearn.ensemble import RandomForestRegressor\n",
    "from sklearn.ensemble import AdaBoostClassifier\n",
    "from sklearn.ensemble import GradientBoostingRegressor\n",
    "\n",
    "#Importing xgboost\n",
    "from xgboost import XGBRegressor\n",
    "\n",
    "import warnings\n",
    "warnings.simplefilter(\"ignore\")\n",
    "\n",
    "#Importing other required libraries\n",
    "import os\n",
    "import re\n",
    "import csv\n",
    "import operator\n",
    "import random\n",
    "import datetime\n",
    "from datetime import datetime\n",
    "import warnings\n",
    "\n",
    "import time\n",
    "import multiprocessing\n",
    "import sys"
   ]
  },
  {
   "cell_type": "markdown",
   "metadata": {},
   "source": [
    "# Benchmark Model"
   ]
  },
  {
   "cell_type": "code",
   "execution_count": 4,
   "metadata": {},
   "outputs": [],
   "source": [
    "#Reading Training Data\n",
    "dftrain = pd.read_csv('C:/Users/Jiamin_Xiao/Desktop/PTA/zillow/data/zillow-prize-1/train_2016_v2.csv')\n",
    "dfprop = pd.read_csv('C:/Users/Jiamin_Xiao/Desktop/PTA/zillow/data/zillow-prize-1/properties_2016.csv')"
   ]
  },
  {
   "cell_type": "code",
   "execution_count": null,
   "metadata": {},
   "outputs": [],
   "source": [
    "#https://stackoverflow.com/questions/21443865/scikit-learn-cross-validation-negative-values-with-mean-squared-error"
   ]
  },
  {
   "cell_type": "code",
   "execution_count": 4,
   "metadata": {},
   "outputs": [],
   "source": [
    "def benchmark_mode():\n",
    "    #Filling missing values with -1\n",
    "    dfprop.fillna(-1,inplace=True)\n",
    "\n",
    "    #Merging Datafiles\n",
    "    df = pd.merge(dftrain, dfprop, on='parcelid', suffixes=('', '_r'))\n",
    "\n",
    "    #Dropping meta columns and casting to accepted dtypes\n",
    "    X = df.drop(['parcelid', 'logerror', 'transactiondate',\n",
    "                 'propertyzoningdesc', 'propertycountylandusecode'], axis=1)\n",
    "    for c in ['hashottuborspa', 'fireplaceflag', 'taxdelinquencyflag']:\n",
    "        X[c] = X[c].astype('bool')\n",
    "\n",
    "    #Applying RandomForestRegressor  \n",
    "    clf = RandomForestRegressor()\n",
    "    scores = model_selection.cross_val_score(clf, X, df.logerror, cv=10, scoring='neg_mean_absolute_error')\n",
    "    #print(\"%s Accuracy: %0.5f\" % (clf.__class__.__name__, scores.mean()))\n",
    "    return print(\"%s Accuracy: %0.5f\" % (clf.__class__.__name__, scores.mean()))"
   ]
  },
  {
   "cell_type": "code",
   "execution_count": 6,
   "metadata": {},
   "outputs": [
    {
     "name": "stdout",
     "output_type": "stream",
     "text": [
      "RandomForestRegressor Accuracy: -0.08231\n",
      "done in :  493.5212278366089\n",
      "Hah... I am done with all my work now!\n"
     ]
    }
   ],
   "source": [
    "t = time.time()\n",
    "\n",
    "benchmark_mode()\n",
    "\n",
    "print(\"done in : \",time.time()-t)\n",
    "print(\"Hah... I am done with all my work now!\")"
   ]
  },
  {
   "cell_type": "markdown",
   "metadata": {},
   "source": [
    "# Data Preprocessing"
   ]
  },
  {
   "cell_type": "code",
   "execution_count": 5,
   "metadata": {},
   "outputs": [
    {
     "name": "stdout",
     "output_type": "stream",
     "text": [
      "Shape Of Train:  (90275, 3)\n",
      "Shape Of Train:  (2985217, 58)\n",
      "Shape Of Train:  (90275, 60)\n"
     ]
    }
   ],
   "source": [
    "#Reading Training Data\n",
    "train = pd.read_csv('C:/Users/Jiamin_Xiao/Desktop/PTA/zillow/data/zillow-prize-1/train_2016_v2.csv', parse_dates=[\"transactiondate\"])\n",
    "print (\"Shape Of Train: \",train.shape)\n",
    "train.head()\n",
    "\n",
    "#Reading Properties Data\n",
    "prop = pd.read_csv('C:/Users/Jiamin_Xiao/Desktop/PTA/zillow/data/zillow-prize-1/properties_2016.csv')\n",
    "print (\"Shape Of Train: \",prop.shape)\n",
    "prop.head()\n",
    "\n",
    "#Merging both files to create the train file\n",
    "train = pd.merge(train, prop, on='parcelid', how='left')\n",
    "print (\"Shape Of Train: \",train.shape)\n",
    "train.head()\n",
    "\n",
    "#New Variable - Exploring number of transactions in each month\n",
    "train['New_transaction_month'] = train['transactiondate'].dt.month\n",
    "\n",
    "#Dropping Columns who's %age of NaN values is greater than 70%\n",
    "for col in list(train.columns.values):\n",
    "    nanValues = float(train[col].isnull().sum()) / len(train)\n",
    "    if nanValues > 0.70:\n",
    "        #print col\n",
    "        train = train.drop([col], axis=1)\n",
    "        \n",
    "#Corelation Analysis, dropping highly correlated variables\")\n",
    "for col in ('calculatedbathnbr','fullbathcnt','finishedsquarefeet12','rawcensustractandblock','censustractandblock','landtaxvaluedollarcnt','taxvaluedollarcnt'):\n",
    "    train = train.drop([col], axis=1)\n",
    "    \n",
    "#fill median for numeric null columns\n",
    "for c in train.dtypes[train.dtypes == 'float64'].index.values:\n",
    "    train[c].fillna(train[c].median(), inplace = True)\n",
    "    \n",
    "#Imputing Null values with -1 and encoding Objects\n",
    "for c in train.columns:\n",
    "    train[c]=train[c].fillna(-1)\n",
    "    if train[c].dtype == object:\n",
    "        lbl = LabelEncoder()\n",
    "        lbl.fit(list(train[c].values))\n",
    "        train[c] = lbl.transform(list(train[c].values))\n",
    "         \n",
    "#Dropping out outliers\n",
    "train=train[ train.logerror > -0.417 ]\n",
    "train=train[ train.logerror < 0.418 ]\n",
    "\n",
    "#Processing data\n",
    "for c, dtype in zip(train.columns, train.dtypes):\n",
    "    if dtype == np.float64:\n",
    "        train[c] = train[c].astype(np.float32)\n",
    "\n",
    "#Splitting logerror as test data\n",
    "test = train.logerror\n",
    "\n",
    "#Dropping meta columns and casting to accepted dtypes\n",
    "train = train.drop(['parcelid', 'logerror', 'transactiondate',\n",
    "                'propertyzoningdesc', 'propertycountylandusecode'], axis=1)   "
   ]
  },
  {
   "cell_type": "markdown",
   "metadata": {},
   "source": [
    "# Feature Engineering"
   ]
  },
  {
   "cell_type": "code",
   "execution_count": 6,
   "metadata": {},
   "outputs": [],
   "source": [
    "#Adding new features\n",
    "\n",
    "#proportion of living area\n",
    "train['New_LivingAreaProp'] = train['calculatedfinishedsquarefeet']/train['lotsizesquarefeet']\n",
    "\n",
    "#Number of properties in the zip\n",
    "zip_count = train['regionidzip'].value_counts().to_dict()\n",
    "train['New_zip_count'] = train['regionidzip'].map(zip_count)\n",
    "\n",
    "#Number of properties in the city\n",
    "city_count = train['regionidcity'].value_counts().to_dict()\n",
    "train['New_city_count'] = train['regionidcity'].map(city_count)"
   ]
  },
  {
   "cell_type": "markdown",
   "metadata": {},
   "source": [
    "# Model Selection"
   ]
  },
  {
   "cell_type": "code",
   "execution_count": 7,
   "metadata": {},
   "outputs": [],
   "source": [
    "#Printing out all the Variables\n",
    "dtype_df = train.dtypes.reset_index()\n",
    "dtype_df.columns = [\"Count\", \"Column Type\"]\n",
    "\n",
    "#Testing various Regression models\n",
    "allModels = {} # Dictionary of models and their respective losses"
   ]
  },
  {
   "cell_type": "code",
   "execution_count": 8,
   "metadata": {},
   "outputs": [
    {
     "name": "stdout",
     "output_type": "stream",
     "text": [
      "Running XGB Regression\n"
     ]
    }
   ],
   "source": [
    "print(\"Running XGB Regression\")\n",
    "model = XGBRegressor()\n",
    "predicted = cross_val_score(model, train, test, scoring='neg_mean_absolute_error', cv=10)\n",
    "allModels[model] = predicted.mean()"
   ]
  },
  {
   "cell_type": "code",
   "execution_count": 7,
   "metadata": {},
   "outputs": [
    {
     "name": "stdout",
     "output_type": "stream",
     "text": [
      "Running Linear Regression\n"
     ]
    }
   ],
   "source": [
    "print(\"Running Linear Regression\")\n",
    "model = linear_model.LinearRegression()\n",
    "predicted = cross_val_score(model, train, test, scoring='neg_mean_absolute_error', cv=10)\n",
    "allModels[model] = predicted.mean()"
   ]
  },
  {
   "cell_type": "code",
   "execution_count": 8,
   "metadata": {},
   "outputs": [
    {
     "name": "stdout",
     "output_type": "stream",
     "text": [
      "Running Bayesian Ridge Regression\n"
     ]
    }
   ],
   "source": [
    "print(\"Running Bayesian Ridge Regression\")\n",
    "model = linear_model.BayesianRidge()\n",
    "predicted = cross_val_score(model, train, test, scoring='neg_mean_absolute_error', cv=10)\n",
    "allModels[model] = predicted.mean()"
   ]
  },
  {
   "cell_type": "code",
   "execution_count": 9,
   "metadata": {},
   "outputs": [
    {
     "name": "stdout",
     "output_type": "stream",
     "text": [
      "Running Ridge Regression\n"
     ]
    }
   ],
   "source": [
    "print(\"Running Ridge Regression\")\n",
    "model = linear_model.Ridge()\n",
    "predicted = cross_val_score(model, train, test, scoring='neg_mean_absolute_error', cv=10)\n",
    "allModels[model] = predicted.mean()"
   ]
  },
  {
   "cell_type": "code",
   "execution_count": 10,
   "metadata": {},
   "outputs": [
    {
     "name": "stdout",
     "output_type": "stream",
     "text": [
      "Running Lasso Regression\n"
     ]
    }
   ],
   "source": [
    "print(\"Running Lasso Regression\")\n",
    "model = linear_model.Lasso()\n",
    "predicted = cross_val_score(model, train, test, scoring='neg_mean_absolute_error', cv=10)\n",
    "allModels[model] = predicted.mean()"
   ]
  },
  {
   "cell_type": "code",
   "execution_count": 11,
   "metadata": {},
   "outputs": [
    {
     "name": "stdout",
     "output_type": "stream",
     "text": [
      "Running Decision Trees\n"
     ]
    }
   ],
   "source": [
    "print(\"Running Decision Trees\")\n",
    "model = tree.DecisionTreeRegressor()\n",
    "predicted = cross_val_score(model, train, test, scoring='neg_mean_absolute_error', cv=10)\n",
    "allModels[model] = predicted.mean()"
   ]
  },
  {
   "cell_type": "code",
   "execution_count": 12,
   "metadata": {},
   "outputs": [
    {
     "name": "stdout",
     "output_type": "stream",
     "text": [
      "Running Random Forest\n"
     ]
    }
   ],
   "source": [
    "print(\"Running Random Forest\")\n",
    "model = RandomForestRegressor()\n",
    "predicted = cross_val_score(model, train, test, scoring='neg_mean_absolute_error', cv=10)\n",
    "allModels[model] = predicted.mean()"
   ]
  },
  {
   "cell_type": "code",
   "execution_count": 13,
   "metadata": {},
   "outputs": [
    {
     "name": "stdout",
     "output_type": "stream",
     "text": [
      "Running KNN\n"
     ]
    }
   ],
   "source": [
    "print(\"Running KNN\")\n",
    "model = KNeighborsRegressor()\n",
    "predicted = cross_val_score(model, train, test, scoring='neg_mean_absolute_error', cv=10)\n",
    "allModels[model] = predicted.mean()"
   ]
  },
  {
   "cell_type": "code",
   "execution_count": 14,
   "metadata": {},
   "outputs": [
    {
     "name": "stdout",
     "output_type": "stream",
     "text": [
      "Running Gradient Boosted Regressor\n"
     ]
    }
   ],
   "source": [
    "print(\"Running Gradient Boosted Regressor\")\n",
    "model = GradientBoostingRegressor()\n",
    "predicted = cross_val_score(model, train, test, scoring='neg_mean_absolute_error', cv=10)\n",
    "allModels[model] = predicted.mean()"
   ]
  },
  {
   "cell_type": "code",
   "execution_count": 15,
   "metadata": {
    "scrolled": true
   },
   "outputs": [
    {
     "name": "stdout",
     "output_type": "stream",
     "text": [
      "Returning the best model\n",
      "Model: XGBRegressor(base_score=0.5, booster='gbtree', colsample_bylevel=1,\n",
      "       colsample_bytree=1, gamma=0, importance_type='gain',\n",
      "       learning_rate=0.1, max_delta_step=0, max_depth=3,\n",
      "       min_child_weight=1, missing=None, n_estimators=100, n_jobs=1,\n",
      "       nthread=None, objective='reg:linear', random_state=0, reg_alpha=0,\n",
      "       reg_lambda=1, scale_pos_weight=1, seed=None, silent=True,\n",
      "       subsample=1)\n",
      "Loss: -0.053039984032511714\n",
      "Model: GradientBoostingRegressor(alpha=0.9, criterion='friedman_mse', init=None,\n",
      "             learning_rate=0.1, loss='ls', max_depth=3, max_features=None,\n",
      "             max_leaf_nodes=None, min_impurity_decrease=0.0,\n",
      "             min_impurity_split=None, min_samples_leaf=1,\n",
      "             min_samples_split=2, min_weight_fraction_leaf=0.0,\n",
      "             n_estimators=100, n_iter_no_change=None, presort='auto',\n",
      "             random_state=None, subsample=1.0, tol=0.0001,\n",
      "             validation_fraction=0.1, verbose=0, warm_start=False)\n",
      "Loss: -0.05309131892384907\n",
      "Model: Lasso(alpha=1.0, copy_X=True, fit_intercept=True, max_iter=1000,\n",
      "   normalize=False, positive=False, precompute=False, random_state=None,\n",
      "   selection='cyclic', tol=0.0001, warm_start=False)\n",
      "Loss: -0.05335322419133566\n",
      "Model: BayesianRidge(alpha_1=1e-06, alpha_2=1e-06, compute_score=False, copy_X=True,\n",
      "       fit_intercept=True, lambda_1=1e-06, lambda_2=1e-06, n_iter=300,\n",
      "       normalize=False, tol=0.001, verbose=False)\n",
      "Loss: -0.053373706230093645\n",
      "Model: Ridge(alpha=1.0, copy_X=True, fit_intercept=True, max_iter=None,\n",
      "   normalize=False, random_state=None, solver='auto', tol=0.001)\n",
      "Loss: -0.05338599359652233\n",
      "Model: LinearRegression(copy_X=True, fit_intercept=True, n_jobs=None,\n",
      "         normalize=False)\n",
      "Loss: -0.053385994890348155\n",
      "Model: RandomForestRegressor(bootstrap=True, criterion='mse', max_depth=None,\n",
      "           max_features='auto', max_leaf_nodes=None,\n",
      "           min_impurity_decrease=0.0, min_impurity_split=None,\n",
      "           min_samples_leaf=1, min_samples_split=2,\n",
      "           min_weight_fraction_leaf=0.0, n_estimators='warn', n_jobs=None,\n",
      "           oob_score=False, random_state=None, verbose=0, warm_start=False)\n",
      "Loss: -0.05915469451093234\n",
      "Model: KNeighborsRegressor(algorithm='auto', leaf_size=30, metric='minkowski',\n",
      "          metric_params=None, n_jobs=None, n_neighbors=5, p=2,\n",
      "          weights='uniform')\n",
      "Loss: -0.061538608744740486\n",
      "Model: DecisionTreeRegressor(criterion='mse', max_depth=None, max_features=None,\n",
      "           max_leaf_nodes=None, min_impurity_decrease=0.0,\n",
      "           min_impurity_split=None, min_samples_leaf=1,\n",
      "           min_samples_split=2, min_weight_fraction_leaf=0.0,\n",
      "           presort=False, random_state=None, splitter='best')\n",
      "Loss: -0.08443729257465678\n"
     ]
    }
   ],
   "source": [
    "print(\"Returning the best model\")\n",
    "sortedModels = sorted(allModels.items(), key=operator.itemgetter(1), reverse=True)\n",
    "for model in sortedModels:\n",
    "    print ('Model:', model[0])\n",
    "    print ('Loss:', model[1])"
   ]
  },
  {
   "cell_type": "markdown",
   "metadata": {},
   "source": [
    "# Cross Validation and Feature Importances"
   ]
  },
  {
   "cell_type": "code",
   "execution_count": 9,
   "metadata": {},
   "outputs": [
    {
     "name": "stdout",
     "output_type": "stream",
     "text": [
      "Cross validation again using best estimated parameters\n",
      "Printing Final Score\n",
      "MAE: 0.05 (+/- 0.00)\n"
     ]
    },
    {
     "data": {
      "image/png": "[encoded data removed]",
      "text/plain": [
       "<Figure size 432x288 with 1 Axes>"
      ]
     },
     "metadata": {
      "needs_background": "light"
     },
     "output_type": "display_data"
    }
   ],
   "source": [
    "#Importing xgboost\n",
    "from xgboost import XGBRegressor\n",
    "from xgboost import plot_importance\n",
    "\n",
    "print(\"Cross validation again using best estimated parameters\")\n",
    "clf = XGBRegressor(learning_rate =0.1,max_depth= 3,min_child_weight=1,n_estimators=100)\n",
    "scores = model_selection.cross_val_score(clf, train, test, cv=10,  scoring='neg_mean_absolute_error')\n",
    "print(\"Printing Final Score\")\n",
    "print(\"MAE: %0.2f (+/- %0.2f)\" % (abs(scores.mean()), scores.std()*2))\n",
    "\n",
    "clf.fit(train, test)  \n",
    "#print(\"Printing Feature Importances\")\n",
    "#print (clf.feature_importances_)\n",
    "#plt.bar(range(len(clf.feature_importances_)),clf.feature_importances_)\n",
    "#plt.show()\n",
    "\n",
    "plot_importance(clf)\n",
    "plt.show()"
   ]
  },
  {
   "cell_type": "code",
   "execution_count": null,
   "metadata": {},
   "outputs": [],
   "source": []
  }
 ],
 "metadata": {
  "kernelspec": {
   "display_name": "Python 3",
   "language": "python",
   "name": "python3"
  },
  "language_info": {
   "codemirror_mode": {
    "name": "ipython",
    "version": 3
   },
   "file_extension": ".py",
   "mimetype": "text/x-python",
   "name": "python",
   "nbconvert_exporter": "python",
   "pygments_lexer": "ipython3",
   "version": "3.7.0"
  }
 },
 "nbformat": 4,
 "nbformat_minor": 2
}
